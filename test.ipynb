{
 "cells": [
  {
   "cell_type": "markdown",
   "id": "68ec202a",
   "metadata": {},
   "source": [
    "## 1. Pandas DF to JSON File"
   ]
  },
  {
   "cell_type": "code",
   "execution_count": 1,
   "id": "3ccc15e1",
   "metadata": {},
   "outputs": [],
   "source": [
    "import pandas as pd\n",
    "import json"
   ]
  },
  {
   "cell_type": "code",
   "execution_count": 2,
   "id": "572b7a52",
   "metadata": {},
   "outputs": [],
   "source": [
    "df = pd.read_csv('cars.csv')"
   ]
  },
  {
   "cell_type": "code",
   "execution_count": 3,
   "id": "901ca489",
   "metadata": {},
   "outputs": [
    {
     "data": {
      "text/html": [
       "<div>\n",
       "<style scoped>\n",
       "    .dataframe tbody tr th:only-of-type {\n",
       "        vertical-align: middle;\n",
       "    }\n",
       "\n",
       "    .dataframe tbody tr th {\n",
       "        vertical-align: top;\n",
       "    }\n",
       "\n",
       "    .dataframe thead th {\n",
       "        text-align: right;\n",
       "    }\n",
       "</style>\n",
       "<table border=\"1\" class=\"dataframe\">\n",
       "  <thead>\n",
       "    <tr style=\"text-align: right;\">\n",
       "      <th></th>\n",
       "      <th>id</th>\n",
       "      <th>make</th>\n",
       "      <th>year</th>\n",
       "      <th>model</th>\n",
       "      <th>license</th>\n",
       "      <th>mileage</th>\n",
       "    </tr>\n",
       "  </thead>\n",
       "  <tbody>\n",
       "    <tr>\n",
       "      <th>0</th>\n",
       "      <td>\"4\"</td>\n",
       "      <td>BMW</td>\n",
       "      <td>2003</td>\n",
       "      <td>X6</td>\n",
       "      <td>XYZ-123</td>\n",
       "      <td>18566</td>\n",
       "    </tr>\n",
       "    <tr>\n",
       "      <th>1</th>\n",
       "      <td>\"5\"</td>\n",
       "      <td>TOYOTA</td>\n",
       "      <td>2014</td>\n",
       "      <td>CAMERY</td>\n",
       "      <td>XYZ-124</td>\n",
       "      <td>11831</td>\n",
       "    </tr>\n",
       "    <tr>\n",
       "      <th>2</th>\n",
       "      <td>\"6\"</td>\n",
       "      <td>HONDA</td>\n",
       "      <td>2007</td>\n",
       "      <td>ACCORD</td>\n",
       "      <td>XYZ-125</td>\n",
       "      <td>28077</td>\n",
       "    </tr>\n",
       "    <tr>\n",
       "      <th>3</th>\n",
       "      <td>\"7\"</td>\n",
       "      <td>VOLVO</td>\n",
       "      <td>2008</td>\n",
       "      <td>V1</td>\n",
       "      <td>XYZ-126</td>\n",
       "      <td>11556</td>\n",
       "    </tr>\n",
       "    <tr>\n",
       "      <th>4</th>\n",
       "      <td>\"8\"</td>\n",
       "      <td>BMW</td>\n",
       "      <td>2007</td>\n",
       "      <td>X3</td>\n",
       "      <td>XYZ-127</td>\n",
       "      <td>21305</td>\n",
       "    </tr>\n",
       "  </tbody>\n",
       "</table>\n",
       "</div>"
      ],
      "text/plain": [
       "    id    make  year   model  license  mileage\n",
       "0  \"4\"     BMW  2003      X6  XYZ-123    18566\n",
       "1  \"5\"  TOYOTA  2014  CAMERY  XYZ-124    11831\n",
       "2  \"6\"   HONDA  2007  ACCORD  XYZ-125    28077\n",
       "3  \"7\"   VOLVO  2008      V1  XYZ-126    11556\n",
       "4  \"8\"     BMW  2007      X3  XYZ-127    21305"
      ]
     },
     "execution_count": 3,
     "metadata": {},
     "output_type": "execute_result"
    }
   ],
   "source": [
    "df.head()"
   ]
  },
  {
   "cell_type": "code",
   "execution_count": 4,
   "id": "571ac2a4",
   "metadata": {},
   "outputs": [
    {
     "name": "stdout",
     "output_type": "stream",
     "text": [
      "{'id': '\"4\"', 'make': 'BMW', 'year': 2003, 'model': 'X6', 'license': 'XYZ-123', 'mileage': 18566}\n"
     ]
    }
   ],
   "source": [
    "print(dict(df.iloc[0]))"
   ]
  },
  {
   "cell_type": "code",
   "execution_count": 5,
   "id": "710ac625",
   "metadata": {},
   "outputs": [],
   "source": [
    "with open('cars.json', 'w') as file:\n",
    "    for i in range(df.shape[0]):\n",
    "        file.write((df.iloc[i]).to_json() + '\\n')"
   ]
  },
  {
   "cell_type": "code",
   "execution_count": 6,
   "id": "9cf6d7c3",
   "metadata": {},
   "outputs": [
    {
     "data": {
      "text/plain": [
       "'{\"id\":\"\\\\\"4\\\\\"\",\"make\":\"BMW\",\"year\":2003,\"model\":\"X6\",\"license\":\"XYZ-123\",\"mileage\":18566}'"
      ]
     },
     "execution_count": 6,
     "metadata": {},
     "output_type": "execute_result"
    }
   ],
   "source": [
    "df.iloc[0].to_json()"
   ]
  },
  {
   "cell_type": "code",
   "execution_count": 7,
   "id": "9c96a66b",
   "metadata": {},
   "outputs": [
    {
     "name": "stdout",
     "output_type": "stream",
     "text": [
      "hello world\n"
     ]
    }
   ],
   "source": [
    "print(\"hello world\")"
   ]
  },
  {
   "cell_type": "code",
   "execution_count": null,
   "id": "285fd749",
   "metadata": {},
   "outputs": [],
   "source": []
  }
 ],
 "metadata": {
  "kernelspec": {
   "display_name": "Python 3",
   "language": "python",
   "name": "python3"
  },
  "language_info": {
   "codemirror_mode": {
    "name": "ipython",
    "version": 3
   },
   "file_extension": ".py",
   "mimetype": "text/x-python",
   "name": "python",
   "nbconvert_exporter": "python",
   "pygments_lexer": "ipython3",
   "version": "3.8.8"
  }
 },
 "nbformat": 4,
 "nbformat_minor": 5
}
